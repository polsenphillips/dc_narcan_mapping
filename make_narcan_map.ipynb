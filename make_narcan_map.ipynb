{
 "cells": [
  {
   "cell_type": "markdown",
   "metadata": {},
   "source": [
    "Makes a lil map of locations one can pickup Narcan in Washington, DC. Note that Narcan is available without a prescription. **IMPORTANT:** This list does not include organizations that provide mobile Narcan services, including HIPS and Family Medical and Counseling Service.\n",
    "\n",
    "Source for this data (accessed 03/08/2022): https://dchealth.dc.gov/NarcanDC#:~:text=Narcan%20is%20Available%20Without%20a,opioids%20and%20opioid%20addiction%20resources."
   ]
  },
  {
   "cell_type": "code",
   "execution_count": 3,
   "metadata": {},
   "outputs": [],
   "source": [
    "import folium\n",
    "import pandas as pd"
   ]
  },
  {
   "cell_type": "code",
   "execution_count": 4,
   "metadata": {},
   "outputs": [],
   "source": [
    "df = pd.read_excel('narcan_addresses.xlsx')"
   ]
  },
  {
   "cell_type": "code",
   "execution_count": 5,
   "metadata": {},
   "outputs": [],
   "source": [
    "lat = list(df['lat'])\n",
    "lon = list(df['lon'])\n",
    "pharmacy = list(df['pharmacy'])\n",
    "address = list(df['address'])\n",
    "phone = list(df['phone'])"
   ]
  },
  {
   "cell_type": "code",
   "execution_count": 6,
   "metadata": {},
   "outputs": [],
   "source": [
    "html = '''<h4>Name: %s</h4>\n",
    "<h5>Address: %s</h5>'''"
   ]
  },
  {
   "cell_type": "code",
   "execution_count": 7,
   "metadata": {},
   "outputs": [],
   "source": [
    "map = folium.Map(location = [38.907192, -77.036873], zoom_start = 12, tiles = 'Stamen Terrain')\n",
    "fg = folium.FeatureGroup(name = 'My Map')\n"
   ]
  },
  {
   "cell_type": "code",
   "execution_count": 8,
   "metadata": {},
   "outputs": [],
   "source": [
    "for lt, ln, ph, add in zip(lat, lon, pharmacy, address):\n",
    "    iframe = folium.IFrame(html=html%(ph, add), width=200, height=100)\n",
    "    fg.add_child(folium.Marker(location=[lt, ln], icon = folium.Icon(color = 'blue'), \\\n",
    "                               popup=folium.Popup(iframe)))"
   ]
  },
  {
   "cell_type": "code",
   "execution_count": 9,
   "metadata": {},
   "outputs": [],
   "source": [
    "map.add_child(fg)\n",
    "\n",
    "map.save('Map1.html')"
   ]
  }
 ],
 "metadata": {
  "kernelspec": {
   "display_name": "Python 3",
   "language": "python",
   "name": "python3"
  },
  "language_info": {
   "codemirror_mode": {
    "name": "ipython",
    "version": 3
   },
   "file_extension": ".py",
   "mimetype": "text/x-python",
   "name": "python",
   "nbconvert_exporter": "python",
   "pygments_lexer": "ipython3",
   "version": "3.7.4"
  }
 },
 "nbformat": 4,
 "nbformat_minor": 2
}
